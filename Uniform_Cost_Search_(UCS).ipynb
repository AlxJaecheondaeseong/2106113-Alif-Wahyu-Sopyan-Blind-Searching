{
  "nbformat": 4,
  "nbformat_minor": 0,
  "metadata": {
    "colab": {
      "provenance": []
    },
    "kernelspec": {
      "name": "python3",
      "display_name": "Python 3"
    },
    "language_info": {
      "name": "python"
    }
  },
  "cells": [
    {
      "cell_type": "code",
      "execution_count": 12,
      "metadata": {
        "colab": {
          "base_uri": "https://localhost:8080/"
        },
        "id": "3gpqVU44FEfk",
        "outputId": "e4c9d9f0-ef86-4f96-9060-eb93e2e41ce4"
      },
      "outputs": [
        {
          "output_type": "stream",
          "name": "stdout",
          "text": [
            "Minimum cost from 0 to 6 is =  3\n"
          ]
        }
      ],
      "source": [
        "def uniform_cost_search(goal, start):\n",
        "\t\n",
        "\tglobal graph,cost\n",
        "\tanswer = []\n",
        "\n",
        "\n",
        "\tqueue = []\n",
        "\n",
        "\tfor i in range(len(goal)):\n",
        "\t\tanswer.append(10**8)\n",
        "\n",
        "\tqueue.append([0, start])\n",
        "\n",
        "\tvisited = {}\n",
        "\n",
        "\tcount = 0\n",
        "\n",
        "\twhile (len(queue) > 0):\n",
        "\n",
        "\t\tqueue = sorted(queue)\n",
        "\t\tp = queue[-1]\n",
        "\n",
        "\t\tdel queue[-1]\n",
        "\n",
        "\t\tp[0] *= -1\n",
        "\n",
        "\t\tif (p[1] in goal):\n",
        "\n",
        "\t\t\tindex = goal.index(p[1])\n",
        "\n",
        "\t\t\tif (answer[index] == 10**8):\n",
        "\t\t\t\tcount += 1\n",
        "\n",
        "\t\t\tif (answer[index] > p[0]):\n",
        "\t\t\t\tanswer[index] = p[0]\n",
        "\n",
        "\t\t\tdel queue[-1]\n",
        "\n",
        "\t\t\tqueue = sorted(queue)\n",
        "\t\t\tif (count == len(goal)):\n",
        "\t\t\t\treturn answer\n",
        "\n",
        "\t\tif (p[1] not in visited):\n",
        "\t\t\tfor i in range(len(graph[p[1]])):\n",
        "\n",
        "\t\t\t\tqueue.append( [(p[0] + cost[(p[1], graph[p[1]][i])])* -1, graph[p[1]][i]])\n",
        "\n",
        "\t\tvisited[p[1]] = 1\n",
        "\n",
        "\treturn answer\n",
        "\n",
        "if __name__ == '__main__':\n",
        "\n",
        "\tgraph,cost = [[] for i in range(8)],{}\n",
        "\n",
        "\tgraph[0].append(1)\n",
        "\tgraph[0].append(3)\n",
        "\tgraph[3].append(1)\n",
        "\tgraph[3].append(6)\n",
        "\tgraph[3].append(4)\n",
        "\tgraph[1].append(6)\n",
        "\tgraph[4].append(2)\n",
        "\tgraph[4].append(5)\n",
        "\tgraph[2].append(1)\n",
        "\tgraph[5].append(2)\n",
        "\tgraph[5].append(6)\n",
        "\tgraph[6].append(4)\n",
        "\n",
        "\tcost[(0, 1)] = 2\n",
        "\tcost[(0, 3)] = 5\n",
        "\tcost[(1, 6)] = 1\n",
        "\tcost[(3, 1)] = 5\n",
        "\tcost[(3, 6)] = 6\n",
        "\tcost[(3, 4)] = 2\n",
        "\tcost[(2, 1)] = 4\n",
        "\tcost[(4, 2)] = 4\n",
        "\tcost[(4, 5)] = 3\n",
        "\tcost[(5, 2)] = 6\n",
        "\tcost[(5, 6)] = 3\n",
        "\tcost[(6, 4)] = 7\n",
        "\n",
        "\tgoal = []\n",
        "\n",
        "\tgoal.append(6)\n",
        "\n",
        "\tanswer = uniform_cost_search(goal, 0)\n",
        "\n",
        "\tprint(\"Minimum cost from 0 to 6 is = \",answer[0])"
      ]
    }
  ]
}