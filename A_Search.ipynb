{
  "nbformat": 4,
  "nbformat_minor": 0,
  "metadata": {
    "colab": {
      "provenance": []
    },
    "kernelspec": {
      "name": "python3",
      "display_name": "Python 3"
    },
    "language_info": {
      "name": "python"
    }
  },
  "cells": [
    {
      "cell_type": "code",
      "execution_count": 4,
      "metadata": {
        "colab": {
          "base_uri": "https://localhost:8080/",
          "height": 321
        },
        "id": "Cy37ej_52k0a",
        "outputId": "f7d3ae59-abf1-4d03-a810-be95b780b88d"
      },
      "outputs": [
        {
          "output_type": "error",
          "ename": "NameError",
          "evalue": "ignored",
          "traceback": [
            "\u001b[0;31m---------------------------------------------------------------------------\u001b[0m",
            "\u001b[0;31mNameError\u001b[0m                                 Traceback (most recent call last)",
            "\u001b[0;32m<ipython-input-4-cae2254ffa67>\u001b[0m in \u001b[0;36m<module>\u001b[0;34m\u001b[0m\n\u001b[1;32m     69\u001b[0m     \u001b[0mdrawMap\u001b[0m\u001b[0;34m(\u001b[0m\u001b[0mcity\u001b[0m\u001b[0;34m,\u001b[0m \u001b[0mgbfs\u001b[0m\u001b[0;34m,\u001b[0m \u001b[0mastar\u001b[0m\u001b[0;34m,\u001b[0m \u001b[0mgraph\u001b[0m\u001b[0;34m)\u001b[0m\u001b[0;34m\u001b[0m\u001b[0;34m\u001b[0m\u001b[0m\n\u001b[1;32m     70\u001b[0m \u001b[0;34m\u001b[0m\u001b[0m\n\u001b[0;32m---> 71\u001b[0;31m \u001b[0mmain\u001b[0m\u001b[0;34m(\u001b[0m\u001b[0;34m)\u001b[0m\u001b[0;34m\u001b[0m\u001b[0;34m\u001b[0m\u001b[0m\n\u001b[0m",
            "\u001b[0;32m<ipython-input-4-cae2254ffa67>\u001b[0m in \u001b[0;36mmain\u001b[0;34m()\u001b[0m\n\u001b[1;32m     47\u001b[0m \u001b[0;31m# running the program\u001b[0m\u001b[0;34m\u001b[0m\u001b[0;34m\u001b[0m\u001b[0m\n\u001b[1;32m     48\u001b[0m \u001b[0;32mdef\u001b[0m \u001b[0mmain\u001b[0m\u001b[0;34m(\u001b[0m\u001b[0;34m)\u001b[0m\u001b[0;34m:\u001b[0m\u001b[0;34m\u001b[0m\u001b[0;34m\u001b[0m\u001b[0m\n\u001b[0;32m---> 49\u001b[0;31m   \u001b[0mheuristic\u001b[0m \u001b[0;34m=\u001b[0m \u001b[0mgetheuristics\u001b[0m\u001b[0;34m(\u001b[0m\u001b[0;34m)\u001b[0m\u001b[0;34m\u001b[0m\u001b[0;34m\u001b[0m\u001b[0m\n\u001b[0m\u001b[1;32m     50\u001b[0m   \u001b[0mgraph\u001b[0m\u001b[0;34m=\u001b[0m \u001b[0mcreategraph\u001b[0m\u001b[0;34m(\u001b[0m\u001b[0;34m)\u001b[0m\u001b[0;34m\u001b[0m\u001b[0;34m\u001b[0m\u001b[0m\n\u001b[1;32m     51\u001b[0m   \u001b[0mcity\u001b[0m\u001b[0;34m,\u001b[0m \u001b[0mcitiesCode\u001b[0m \u001b[0;34m=\u001b[0m \u001b[0mgetCity\u001b[0m\u001b[0;34m(\u001b[0m\u001b[0;34m)\u001b[0m\u001b[0;34m\u001b[0m\u001b[0;34m\u001b[0m\u001b[0m\n",
            "\u001b[0;31mNameError\u001b[0m: name 'getheuristics' is not defined"
          ]
        }
      ],
      "source": [
        "# Astar Algorithm\n",
        "def Astar(startNode, heuristics, graph, goalNode=\"Bucharest\"):\n",
        "  while priorityQueue.empty() == False:\n",
        "    current = priorityQueue.get () [1]\n",
        "    path.append (current[0])\n",
        "    distance += int(current[1])\n",
        "    if current [0] == goalNode:\n",
        "      break\n",
        "    priorityQueue = queue.priorityQueue ()\n",
        "    for i in graph[current[0]]:\n",
        "      if i[0] not in path:\n",
        "        priorityQueue.put((heuristics[i[0]] + int(i[1]) + distance, i))\n",
        "  return path\n",
        "\n",
        "# drawing map of answer \n",
        "def drawMap(city, gbfs, astar, graph):\n",
        "  for i, j in city.items(): \n",
        "    plt.plot(j[0], j[1], \"ro\")\n",
        "    plt.annotate(i, (j[0] + 5, j[1])) \n",
        "    for k in graph[i]:\n",
        "      n = city[k[0]]\n",
        "      plt.plot([j[0], n[0]], j[l], n[l], \"gray\")\n",
        "\n",
        "  for i in range (len(gbfs)):\n",
        "    try :\n",
        "      first = city[gbfs[i]]\n",
        "      secend = city[gbfs[i + 1]]\n",
        "\n",
        "      plt.plot ([first[0], secend[0]], [first[1], secend[1]], \"green\")\n",
        "    except :\n",
        "      continue\n",
        "\n",
        "  for i in range(len(astar)) :\n",
        "    try :\n",
        "      first = city[astar[i]]\n",
        "      secend = city[astar[i + 1]]\n",
        "\n",
        "      plt.plot([first[0], secend[0], first[1], secend[1]], \"blue\")\n",
        "    except : \n",
        "      continue\n",
        "  plt.errorbar(1, 1, label=\"GBFS\", color=\"green\")\n",
        "  pLt.errorbar(1, 1, label=\"ASTAR\", color= \"blue\") \n",
        "  plt.legend(loc=\"lower left\")\n",
        "\n",
        "  plt. show()\n",
        "\n",
        "# running the program \n",
        "def main():\n",
        "  heuristic = getheuristics()\n",
        "  graph= creategraph()\n",
        "  city, citiesCode = getCity()\n",
        "  \n",
        "  for i, j in citiesCode.items():\n",
        "    print(i, j)\n",
        "\n",
        "  while True:\n",
        "    inputCode = int(input(\"Masukan nomor KOTA ASAL (0 untuk keluar): \"))\n",
        "\n",
        "    if inputCode == 0:\n",
        "      break\n",
        "\n",
        "    cityName = citiesCode[inputCode]\n",
        "\n",
        "    gbfs = GBFS (cityName, heuristic, graph)\n",
        "    astar - Astar (cityName, heuristic, graph) \n",
        "    print(\"GBFS =>\", gbfs)\n",
        "    print(\"ASTAR =>\", astar)\n",
        "\n",
        "    drawMap(city, gbfs, astar, graph)\n",
        "\n",
        "main()"
      ]
    }
  ]
}