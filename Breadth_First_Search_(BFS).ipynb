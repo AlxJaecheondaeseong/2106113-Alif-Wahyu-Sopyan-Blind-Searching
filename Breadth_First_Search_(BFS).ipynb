{
  "nbformat": 4,
  "nbformat_minor": 0,
  "metadata": {
    "colab": {
      "provenance": []
    },
    "kernelspec": {
      "name": "python3",
      "display_name": "Python 3"
    },
    "language_info": {
      "name": "python"
    }
  },
  "cells": [
    {
      "cell_type": "code",
      "execution_count": 10,
      "metadata": {
        "id": "yRA0luhs-H6M"
      },
      "outputs": [],
      "source": [
        "def bfs(graph, source):\n",
        "  visited = set()\n",
        "  bfs_traversal = list()\n",
        "  queue = list()\n",
        "\n",
        "  queue.append(source)\n",
        "  visited.add(source)\n",
        "\n",
        "  while queue:\n",
        "    current_node = queue.pop(0)\n",
        "    bfs_traversal.append(current_node)\n",
        "\n",
        "    for neighbour_node in graph[current_node]:\n",
        "      if neighbour_node not in visited:\n",
        "        visited.add(neighbour_node)\n",
        "        queue.append(neighbour_node)\n",
        "  return bfs_traversal"
      ]
    },
    {
      "cell_type": "code",
      "source": [
        "def main():\n",
        "  graph = {\n",
        "      'A' : [ 'B' , 'C' ],\n",
        "      'B' : [ 'A' , 'D' , 'E' ],\n",
        "      'C' : [ 'A' , 'F' , 'G' ],\n",
        "      'D' : [ 'B' ],\n",
        "      'E' : [ 'B' ],\n",
        "      'F' : [ 'C' ],\n",
        "      'G' : [ 'C' ]\n",
        "  }\n",
        "  bfs_traversal = bfs(graph, 'A')\n",
        "  print(f\"BFS: {bfs_traversal}\")\n",
        "\n",
        "if __name__=='__main__':\n",
        "  main()"
      ],
      "metadata": {
        "colab": {
          "base_uri": "https://localhost:8080/"
        },
        "id": "DpnFNZIY_Dc4",
        "outputId": "b7043876-ca7e-4f89-fb1a-a6c2a2db991d"
      },
      "execution_count": 11,
      "outputs": [
        {
          "output_type": "stream",
          "name": "stdout",
          "text": [
            "BFS: ['A', 'B', 'C', 'D', 'E', 'F', 'G']\n"
          ]
        }
      ]
    }
  ]
}