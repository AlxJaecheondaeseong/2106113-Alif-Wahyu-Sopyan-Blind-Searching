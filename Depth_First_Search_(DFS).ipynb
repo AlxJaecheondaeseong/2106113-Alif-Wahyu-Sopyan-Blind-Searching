{
  "nbformat": 4,
  "nbformat_minor": 0,
  "metadata": {
    "colab": {
      "provenance": []
    },
    "kernelspec": {
      "name": "python3",
      "display_name": "Python 3"
    },
    "language_info": {
      "name": "python"
    }
  },
  "cells": [
    {
      "cell_type": "code",
      "execution_count": 10,
      "metadata": {
        "id": "cQG_EKDDCT_b"
      },
      "outputs": [],
      "source": [
        "def dfs(graph, source, visited, dfs_traversal):\n",
        "  if source not in visited:\n",
        "    dfs_traversal.append(source)\n",
        "    visited.add(source)\n",
        "\n",
        "    for neighbor_node in graph[source]:\n",
        "      dfs(graph, neighbor_node, visited, dfs_traversal)\n",
        "\n",
        "  return dfs_traversal"
      ]
    },
    {
      "cell_type": "code",
      "source": [
        "def main():\n",
        "  visited = set()\n",
        "  dfs_traversal = list()\n",
        "\n",
        "  graph = {\n",
        "      'A' : [ 'B' , 'C' ],\n",
        "      'B' : [ 'D' , 'E' ],\n",
        "      'C' : [ 'F' , 'G' ],\n",
        "      'D' : [ ],\n",
        "      'E' : [ ],\n",
        "      'F' : [ ],\n",
        "      'G' : [ ]\n",
        "  }\n",
        "\n",
        "  print(f\"DFS: {dfs(graph, 'A', visited, dfs_traversal)}\")\n",
        "\n",
        "if __name__=='__main__':\n",
        "  main()"
      ],
      "metadata": {
        "colab": {
          "base_uri": "https://localhost:8080/"
        },
        "id": "Dtdd2uv4DQHQ",
        "outputId": "a70adc56-8193-4b98-b4e0-00dd5b59cd13"
      },
      "execution_count": 11,
      "outputs": [
        {
          "output_type": "stream",
          "name": "stdout",
          "text": [
            "DFS: ['A', 'B', 'D', 'E', 'C', 'F', 'G']\n"
          ]
        }
      ]
    }
  ]
}