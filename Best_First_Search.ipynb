{
  "nbformat": 4,
  "nbformat_minor": 0,
  "metadata": {
    "colab": {
      "provenance": []
    },
    "kernelspec": {
      "name": "python3",
      "display_name": "Python 3"
    },
    "language_info": {
      "name": "python"
    }
  },
  "cells": [
    {
      "cell_type": "code",
      "source": [
        "from queue import PriorityQueue\n",
        "v = 14\n",
        "graph = [[] for i in range (v)]\n",
        "\n",
        "def best_first_search(actual_Src, target, n):\n",
        "    visited = [False] * n\n",
        "    pq = PriorityQueue()\n",
        "    pq.put((0, actual_Src))\n",
        "    visited[actual_Src] = True\n",
        "    \n",
        "    while pq.empty() == False:\n",
        "        u = pq.get()[1]\n",
        "        print(u, end=\" \")\n",
        "        if u == target:\n",
        "            break\n",
        "        for v, c in graph[u]:\n",
        "            if visited[v] == False:\n",
        "                visited[v] = True\n",
        "                pq.put((c,v))\n",
        "    print()\n",
        "    \n",
        "    printPQ(pq)\n",
        "    \n",
        "def printPQ(pq):\n",
        "    while not pq.empty():\n",
        "        item = pq.get()\n",
        "        print(item)\n",
        "        \n",
        "def addedge(x, y, cost):\n",
        "    graph[x].append((y, cost))\n",
        "    graph[y].append((x, cost))\n",
        "    \n",
        "addedge(0, 1, 3)\n",
        "addedge(0, 2, 6)\n",
        "addedge(0, 3, 5)\n",
        "addedge(1, 4, 9)\n",
        "addedge(1, 5, 8)\n",
        "addedge(2, 6, 12)\n",
        "addedge(2, 7, 14)\n",
        "addedge(3, 8, 7)\n",
        "addedge(8, 9, 5)\n",
        "addedge(8, 10, 6)\n",
        "addedge(9, 11, 1)\n",
        "addedge(9, 12, 10)\n",
        "addedge(9, 13, 2)\n",
        "    \n",
        "source = 5\n",
        "target = 9\n",
        "\n",
        "best_first_search(source,target,v)\n"
      ],
      "metadata": {
        "colab": {
          "base_uri": "https://localhost:8080/"
        },
        "id": "-ET6riuPtRws",
        "outputId": "8fbf4ba4-6fbf-4005-9296-7b821d2433ea"
      },
      "execution_count": 4,
      "outputs": [
        {
          "output_type": "stream",
          "name": "stdout",
          "text": [
            "5 1 0 3 2 8 9 \n",
            "(6, 10)\n",
            "(9, 4)\n",
            "(12, 6)\n",
            "(14, 7)\n"
          ]
        }
      ]
    }
  ]
}